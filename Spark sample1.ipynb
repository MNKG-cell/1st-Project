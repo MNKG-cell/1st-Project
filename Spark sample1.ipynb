{
  "nbformat": 4,
  "nbformat_minor": 0,
  "metadata": {
    "colab": {
      "provenance": [],
      "authorship_tag": "ABX9TyM3UgXisARmnLouqLm9vBJ5",
      "include_colab_link": true
    },
    "kernelspec": {
      "name": "python3",
      "display_name": "Python 3"
    },
    "language_info": {
      "name": "python"
    }
  },
  "cells": [
    {
      "cell_type": "markdown",
      "metadata": {
        "id": "view-in-github",
        "colab_type": "text"
      },
      "source": [
        "<a href=\"https://colab.research.google.com/github/MNKG-cell/1st-Project/blob/master/Spark%20sample1.ipynb\" target=\"_parent\"><img src=\"https://colab.research.google.com/assets/colab-badge.svg\" alt=\"Open In Colab\"/></a>"
      ]
    },
    {
      "cell_type": "code",
      "execution_count": 1,
      "metadata": {
        "colab": {
          "base_uri": "https://localhost:8080/"
        },
        "id": "rBTYHqquaV5f",
        "outputId": "04615427-55dd-45ed-99c4-cc9705e26565"
      },
      "outputs": [
        {
          "output_type": "stream",
          "name": "stdout",
          "text": [
            "python3: can't open file '/content/script.py': [Errno 2] No such file or directory\n"
          ]
        }
      ],
      "source": [
        "!python script.py"
      ]
    },
    {
      "cell_type": "code",
      "source": [
        "student_name = 'Jhone'\n",
        "teacher_name = \"Jane\"\n",
        "text_1 = \"John's book\"\n",
        "text_2 = 'John said: \"He will go to school\"'\n",
        "text_3 = \"John said: \\\"He will go to school\\\"\"\n",
        "\n",
        "print(text_2)\n",
        "print(text_3)\n",
        "\n",
        "message = '''\n",
        "This is a multi line string.\n",
        "You can have a string containing several lines.\n",
        "'''\n",
        "another_message = \"\"\"\n",
        "This is another multiline string.\n",
        "You can have a string containing several lines.\n",
        "\"\"\"\n",
        "print(message)\n",
        "print(another_message)\n",
        "\n",
        "print(\n",
        "    type(student_name), type(text_1), type(text_2), type(text_3),\n",
        "    type(message), type(another_message)\n",
        "      )"
      ],
      "metadata": {
        "colab": {
          "base_uri": "https://localhost:8080/"
        },
        "id": "7S0TMzG0bqLk",
        "outputId": "45442aaf-96c5-4714-ee51-44f5d1886975"
      },
      "execution_count": 3,
      "outputs": [
        {
          "output_type": "stream",
          "name": "stdout",
          "text": [
            "John said: \"He will go to school\"\n",
            "John said: \"He will go to school\"\n",
            "\n",
            "This is a multi line string.\n",
            "You can have a string containing several lines.\n",
            "\n",
            "\n",
            "This is another multiline string.\n",
            "You can have a string containing several lines.\n",
            "\n",
            "<class 'str'> <class 'str'> <class 'str'> <class 'str'> <class 'str'> <class 'str'>\n"
          ]
        }
      ]
    }
  ]
}